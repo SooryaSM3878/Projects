{
 "cells": [
  {
   "cell_type": "code",
   "execution_count": 28,
   "metadata": {},
   "outputs": [],
   "source": [
    "# importing necessary packages\n",
    "import pandas as pd\n",
    "import numpy as np\n",
    "from sklearn.feature_extraction.text import TfidfVectorizer, CountVectorizer\n",
    "from sklearn.neighbors import NearestNeighbors\n",
    "from sklearn.cluster import KMeans\n",
    "from sklearn.metrics import adjusted_rand_score"
   ]
  },
  {
   "cell_type": "code",
   "execution_count": null,
   "metadata": {},
   "outputs": [],
   "source": []
  },
  {
   "cell_type": "code",
   "execution_count": 29,
   "metadata": {},
   "outputs": [
    {
     "data": {
      "text/html": [
       "<div>\n",
       "<style scoped>\n",
       "    .dataframe tbody tr th:only-of-type {\n",
       "        vertical-align: middle;\n",
       "    }\n",
       "\n",
       "    .dataframe tbody tr th {\n",
       "        vertical-align: top;\n",
       "    }\n",
       "\n",
       "    .dataframe thead th {\n",
       "        text-align: right;\n",
       "    }\n",
       "</style>\n",
       "<table border=\"1\" class=\"dataframe\">\n",
       "  <thead>\n",
       "    <tr style=\"text-align: right;\">\n",
       "      <th></th>\n",
       "      <th>product_uid</th>\n",
       "      <th>product_description</th>\n",
       "    </tr>\n",
       "  </thead>\n",
       "  <tbody>\n",
       "    <tr>\n",
       "      <td>0</td>\n",
       "      <td>100001</td>\n",
       "      <td>Not only do angles make joints stronger, they ...</td>\n",
       "    </tr>\n",
       "    <tr>\n",
       "      <td>1</td>\n",
       "      <td>100002</td>\n",
       "      <td>BEHR Premium Textured DECKOVER is an innovativ...</td>\n",
       "    </tr>\n",
       "    <tr>\n",
       "      <td>2</td>\n",
       "      <td>100003</td>\n",
       "      <td>Classic architecture meets contemporary design...</td>\n",
       "    </tr>\n",
       "    <tr>\n",
       "      <td>3</td>\n",
       "      <td>100004</td>\n",
       "      <td>The Grape Solar 265-Watt Polycrystalline PV So...</td>\n",
       "    </tr>\n",
       "    <tr>\n",
       "      <td>4</td>\n",
       "      <td>100005</td>\n",
       "      <td>Update your bathroom with the Delta Vero Singl...</td>\n",
       "    </tr>\n",
       "  </tbody>\n",
       "</table>\n",
       "</div>"
      ],
      "text/plain": [
       "   product_uid                                product_description\n",
       "0       100001  Not only do angles make joints stronger, they ...\n",
       "1       100002  BEHR Premium Textured DECKOVER is an innovativ...\n",
       "2       100003  Classic architecture meets contemporary design...\n",
       "3       100004  The Grape Solar 265-Watt Polycrystalline PV So...\n",
       "4       100005  Update your bathroom with the Delta Vero Singl..."
      ]
     },
     "execution_count": 29,
     "metadata": {},
     "output_type": "execute_result"
    }
   ],
   "source": [
    "product_descriptions=pd.read_csv(\"product_descriptions.csv\")\n",
    "product_descriptions.head()"
   ]
  },
  {
   "cell_type": "code",
   "execution_count": 30,
   "metadata": {},
   "outputs": [
    {
     "data": {
      "text/html": [
       "<div>\n",
       "<style scoped>\n",
       "    .dataframe tbody tr th:only-of-type {\n",
       "        vertical-align: middle;\n",
       "    }\n",
       "\n",
       "    .dataframe tbody tr th {\n",
       "        vertical-align: top;\n",
       "    }\n",
       "\n",
       "    .dataframe thead th {\n",
       "        text-align: right;\n",
       "    }\n",
       "</style>\n",
       "<table border=\"1\" class=\"dataframe\">\n",
       "  <thead>\n",
       "    <tr style=\"text-align: right;\">\n",
       "      <th></th>\n",
       "      <th>product_uid</th>\n",
       "      <th>product_description</th>\n",
       "    </tr>\n",
       "  </thead>\n",
       "  <tbody>\n",
       "    <tr>\n",
       "      <td>0</td>\n",
       "      <td>100001</td>\n",
       "      <td>Not only do angles make joints stronger, they ...</td>\n",
       "    </tr>\n",
       "    <tr>\n",
       "      <td>1</td>\n",
       "      <td>100002</td>\n",
       "      <td>BEHR Premium Textured DECKOVER is an innovativ...</td>\n",
       "    </tr>\n",
       "    <tr>\n",
       "      <td>2</td>\n",
       "      <td>100003</td>\n",
       "      <td>Classic architecture meets contemporary design...</td>\n",
       "    </tr>\n",
       "    <tr>\n",
       "      <td>3</td>\n",
       "      <td>100004</td>\n",
       "      <td>The Grape Solar 265-Watt Polycrystalline PV So...</td>\n",
       "    </tr>\n",
       "    <tr>\n",
       "      <td>4</td>\n",
       "      <td>100005</td>\n",
       "      <td>Update your bathroom with the Delta Vero Singl...</td>\n",
       "    </tr>\n",
       "  </tbody>\n",
       "</table>\n",
       "</div>"
      ],
      "text/plain": [
       "   product_uid                                product_description\n",
       "0       100001  Not only do angles make joints stronger, they ...\n",
       "1       100002  BEHR Premium Textured DECKOVER is an innovativ...\n",
       "2       100003  Classic architecture meets contemporary design...\n",
       "3       100004  The Grape Solar 265-Watt Polycrystalline PV So...\n",
       "4       100005  Update your bathroom with the Delta Vero Singl..."
      ]
     },
     "execution_count": 30,
     "metadata": {},
     "output_type": "execute_result"
    }
   ],
   "source": [
    "# Missing values\n",
    "product_descriptions = product_descriptions.dropna()\n",
    "product_descriptions.shape\n",
    "product_descriptions.head()"
   ]
  },
  {
   "cell_type": "code",
   "execution_count": 31,
   "metadata": {},
   "outputs": [
    {
     "data": {
      "text/plain": [
       "0    Not only do angles make joints stronger, they ...\n",
       "1    BEHR Premium Textured DECKOVER is an innovativ...\n",
       "2    Classic architecture meets contemporary design...\n",
       "3    The Grape Solar 265-Watt Polycrystalline PV So...\n",
       "4    Update your bathroom with the Delta Vero Singl...\n",
       "5    Achieving delicious results is almost effortle...\n",
       "6    The Quantum Adjustable 2-Light LED Black Emerg...\n",
       "7    The Teks #10 x 1-1/2 in. Zinc-Plated Steel Was...\n",
       "8    Get the House of Fara 3/4 in. x 3 in. x 8 ft. ...\n",
       "9    Valley View Industries Metal Stakes (4-Pack) a...\n",
       "Name: product_description, dtype: object"
      ]
     },
     "execution_count": 31,
     "metadata": {},
     "output_type": "execute_result"
    }
   ],
   "source": [
    "product_descriptions1 = product_descriptions.head(500)\n",
    "# product_descriptions1.iloc[:,1]\n",
    "\n",
    "product_descriptions1[\"product_description\"].head(10)"
   ]
  },
  {
   "cell_type": "code",
   "execution_count": 32,
   "metadata": {},
   "outputs": [
    {
     "data": {
      "text/plain": [
       "<500x8932 sparse matrix of type '<class 'numpy.float64'>'\n",
       "\twith 34817 stored elements in Compressed Sparse Row format>"
      ]
     },
     "execution_count": 32,
     "metadata": {},
     "output_type": "execute_result"
    }
   ],
   "source": [
    "#Feature extraction from product descriptions¶\n",
    "#Converting the text in product description into numerical data for analysis\n",
    "vectorizer = TfidfVectorizer(stop_words='english')\n",
    "X1 = vectorizer.fit_transform(product_descriptions1[\"product_description\"])\n",
    "X1"
   ]
  },
  {
   "cell_type": "code",
   "execution_count": 34,
   "metadata": {},
   "outputs": [
    {
     "name": "stdout",
     "output_type": "stream",
     "text": [
      "Top terms per cluster:\n",
      "Cluster 0:\n",
      " panels\n",
      " finished\n",
      " roofing\n",
      " applied\n",
      " wall\n",
      " apply\n",
      " wood\n",
      " plastic\n",
      " sheet\n",
      " waxes\n",
      "Cluster 1:\n",
      " light\n",
      " energy\n",
      " ft\n",
      " oven\n",
      " door\n",
      " wash\n",
      " cooking\n",
      " cycle\n",
      " fan\n",
      " large\n",
      "Cluster 2:\n",
      " wall\n",
      " piece\n",
      " finish\n",
      " tile\n",
      " design\n",
      " floor\n",
      " installation\n",
      " use\n",
      " recommended\n",
      " residential\n",
      "Cluster 3:\n",
      " insulation\n",
      " radiant\n",
      " attic\n",
      " 48\n",
      " ecotouch\n",
      " film\n",
      " cover\n",
      " corning\n",
      " owens\n",
      " shrink\n",
      "Cluster 4:\n",
      " ft\n",
      " 20\n",
      " cutting\n",
      " ladder\n",
      " easy\n",
      " use\n",
      " roller\n",
      " paint\n",
      " steel\n",
      " 10\n",
      "Cluster 5:\n",
      " storage\n",
      " shelves\n",
      " cabinet\n",
      " room\n",
      " adjustable\n",
      " nickel\n",
      " wall\n",
      " shelf\n",
      " 32\n",
      " add\n",
      "Cluster 6:\n",
      " post\n",
      " outdoor\n",
      " vary\n",
      " bamboo\n",
      " patio\n",
      " rug\n",
      " wood\n",
      " product\n",
      " steel\n",
      " frame\n",
      "Cluster 7:\n",
      " snow\n",
      " watt\n",
      " power\n",
      " engine\n",
      " start\n",
      " light\n",
      " protection\n",
      " joe\n",
      " leaf\n",
      " blower\n",
      "Cluster 8:\n",
      " metal\n",
      " drill\n",
      " use\n",
      " hole\n",
      " screw\n",
      " steel\n",
      " gauge\n",
      " plated\n",
      " screws\n",
      " bit\n",
      "Cluster 9:\n",
      " water\n",
      " air\n",
      " easy\n",
      " heater\n",
      " tank\n",
      " installation\n",
      " free\n",
      " cooling\n",
      " temperature\n",
      " use\n"
     ]
    }
   ],
   "source": [
    "# # Optimal clusters containing top words in each cluster based on product description\n",
    "\n",
    "k = 10\n",
    "\n",
    "model = KMeans(n_clusters=k, init='k-means++', max_iter=100, n_init=1)\n",
    "model.fit(X1)\n",
    "\n",
    "print(\"Top terms per cluster:\")\n",
    "order_centroids = model.cluster_centers_.argsort()[:, ::-1]\n",
    "terms = vectorizer.get_feature_names()\n",
    "for i in range(true_k):\n",
    "    print_cluster(i)"
   ]
  },
  {
   "cell_type": "code",
   "execution_count": 35,
   "metadata": {},
   "outputs": [],
   "source": [
    "# Predicting clusters based on key search words\n",
    "def show_recommendations(product):\n",
    "    #print(\"Cluster ID:\")\n",
    "    Y = vectorizer.transform([product])\n",
    "    prediction = model.predict(Y)\n",
    "    #print(prediction)\n",
    "    print_cluster(prediction[0])"
   ]
  },
  {
   "cell_type": "code",
   "execution_count": 36,
   "metadata": {},
   "outputs": [
    {
     "name": "stdout",
     "output_type": "stream",
     "text": [
      "Cluster 4:\n",
      " ft\n",
      " 20\n",
      " cutting\n",
      " ladder\n",
      " easy\n",
      " use\n",
      " roller\n",
      " paint\n",
      " steel\n",
      " 10\n"
     ]
    }
   ],
   "source": [
    "#recommendations based on cutting tool\n",
    "show_recommendations(\"cutting tool\")"
   ]
  },
  {
   "cell_type": "code",
   "execution_count": 37,
   "metadata": {},
   "outputs": [
    {
     "name": "stdout",
     "output_type": "stream",
     "text": [
      "Cluster 0:\n",
      " panels\n",
      " finished\n",
      " roofing\n",
      " applied\n",
      " wall\n",
      " apply\n",
      " wood\n",
      " plastic\n",
      " sheet\n",
      " waxes\n"
     ]
    }
   ],
   "source": [
    "#recommendations based on roofing\n",
    "show_recommendations(\"roofing\")"
   ]
  },
  {
   "cell_type": "code",
   "execution_count": null,
   "metadata": {},
   "outputs": [],
   "source": [
    "# Once a cluster is identified based on the user's search words, the recommendation system can display items from the corresponding product clusters based on the product descriptions."
   ]
  }
 ],
 "metadata": {
  "kernelspec": {
   "display_name": "Python 3",
   "language": "python",
   "name": "python3"
  },
  "language_info": {
   "codemirror_mode": {
    "name": "ipython",
    "version": 3
   },
   "file_extension": ".py",
   "mimetype": "text/x-python",
   "name": "python",
   "nbconvert_exporter": "python",
   "pygments_lexer": "ipython3",
   "version": "3.7.4"
  }
 },
 "nbformat": 4,
 "nbformat_minor": 2
}
