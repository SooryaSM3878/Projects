{
 "cells": [
  {
   "cell_type": "code",
   "execution_count": 1,
   "metadata": {},
   "outputs": [
    {
     "data": {
      "text/plain": [
       "(32, 7)"
      ]
     },
     "execution_count": 1,
     "metadata": {},
     "output_type": "execute_result"
    }
   ],
   "source": [
    "#import basic\n",
    "import numpy as np\n",
    "import pandas as pd\n",
    "\n",
    "df = pd.read_csv('mtcars.csv')\n",
    "df.shape"
   ]
  },
  {
   "cell_type": "code",
   "execution_count": 2,
   "metadata": {},
   "outputs": [
    {
     "name": "stdout",
     "output_type": "stream",
     "text": [
      "    mpg   disp   hp  drat     wt   qsec\n",
      "0  21.0  160.0  110  3.90  2.620  16.46\n",
      "1  21.0  160.0  110  3.90  2.875  17.02\n",
      "2  22.8  108.0   93  3.85  2.320  18.61\n",
      "3  21.4  258.0  110  3.08  3.215  19.44\n",
      "4  22.8  108.0   93  3.85  2.320  18.61\n"
     ]
    }
   ],
   "source": [
    "# Assign Variable to X & y\n",
    "X = df.iloc[:,1:]\n",
    "print(X.head())"
   ]
  },
  {
   "cell_type": "code",
   "execution_count": 3,
   "metadata": {},
   "outputs": [
    {
     "data": {
      "text/plain": [
       "Index(['car_model', 'mpg', 'disp', 'hp', 'drat', 'wt', 'qsec'], dtype='object')"
      ]
     },
     "execution_count": 3,
     "metadata": {},
     "output_type": "execute_result"
    }
   ],
   "source": [
    "df.columns"
   ]
  },
  {
   "cell_type": "code",
   "execution_count": 4,
   "metadata": {},
   "outputs": [
    {
     "name": "stderr",
     "output_type": "stream",
     "text": [
      "E:\\Anaconda3\\lib\\site-packages\\ipykernel_launcher.py:4: DataConversionWarning: Data with input dtype int64, float64 were all converted to float64 by the scale function.\n",
      "  after removing the cwd from sys.path.\n"
     ]
    },
    {
     "data": {
      "text/html": [
       "<div>\n",
       "<style scoped>\n",
       "    .dataframe tbody tr th:only-of-type {\n",
       "        vertical-align: middle;\n",
       "    }\n",
       "\n",
       "    .dataframe tbody tr th {\n",
       "        vertical-align: top;\n",
       "    }\n",
       "\n",
       "    .dataframe thead th {\n",
       "        text-align: right;\n",
       "    }\n",
       "</style>\n",
       "<table border=\"1\" class=\"dataframe\">\n",
       "  <thead>\n",
       "    <tr style=\"text-align: right;\">\n",
       "      <th></th>\n",
       "      <th>mpg</th>\n",
       "      <th>disp</th>\n",
       "      <th>hp</th>\n",
       "      <th>drat</th>\n",
       "      <th>wt</th>\n",
       "      <th>qsec</th>\n",
       "    </tr>\n",
       "  </thead>\n",
       "  <tbody>\n",
       "    <tr>\n",
       "      <th>0</th>\n",
       "      <td>0.190844</td>\n",
       "      <td>-0.567026</td>\n",
       "      <td>-0.538251</td>\n",
       "      <td>0.621969</td>\n",
       "      <td>-0.594109</td>\n",
       "      <td>-0.861344</td>\n",
       "    </tr>\n",
       "    <tr>\n",
       "      <th>1</th>\n",
       "      <td>0.190844</td>\n",
       "      <td>-0.567026</td>\n",
       "      <td>-0.538251</td>\n",
       "      <td>0.621969</td>\n",
       "      <td>-0.333074</td>\n",
       "      <td>-0.507080</td>\n",
       "    </tr>\n",
       "    <tr>\n",
       "      <th>2</th>\n",
       "      <td>0.496195</td>\n",
       "      <td>-1.001112</td>\n",
       "      <td>-0.793979</td>\n",
       "      <td>0.532316</td>\n",
       "      <td>-0.901207</td>\n",
       "      <td>0.498777</td>\n",
       "    </tr>\n",
       "    <tr>\n",
       "      <th>3</th>\n",
       "      <td>0.258700</td>\n",
       "      <td>0.251061</td>\n",
       "      <td>-0.538251</td>\n",
       "      <td>-0.848344</td>\n",
       "      <td>0.014971</td>\n",
       "      <td>1.023847</td>\n",
       "    </tr>\n",
       "    <tr>\n",
       "      <th>4</th>\n",
       "      <td>0.496195</td>\n",
       "      <td>-1.001112</td>\n",
       "      <td>-0.793979</td>\n",
       "      <td>0.532316</td>\n",
       "      <td>-0.901207</td>\n",
       "      <td>0.498777</td>\n",
       "    </tr>\n",
       "  </tbody>\n",
       "</table>\n",
       "</div>"
      ],
      "text/plain": [
       "        mpg      disp        hp      drat        wt      qsec\n",
       "0  0.190844 -0.567026 -0.538251  0.621969 -0.594109 -0.861344\n",
       "1  0.190844 -0.567026 -0.538251  0.621969 -0.333074 -0.507080\n",
       "2  0.496195 -1.001112 -0.793979  0.532316 -0.901207  0.498777\n",
       "3  0.258700  0.251061 -0.538251 -0.848344  0.014971  1.023847\n",
       "4  0.496195 -1.001112 -0.793979  0.532316 -0.901207  0.498777"
      ]
     },
     "execution_count": 4,
     "metadata": {},
     "output_type": "execute_result"
    }
   ],
   "source": [
    "## Import Preprocessing \n",
    "from sklearn.preprocessing import scale,normalize, StandardScaler\n",
    "\n",
    "X = pd.DataFrame(scale(X),columns=[ 'mpg', 'disp', 'hp', 'drat', 'wt', 'qsec'])\n",
    "X.head()"
   ]
  },
  {
   "cell_type": "code",
   "execution_count": 5,
   "metadata": {},
   "outputs": [
    {
     "data": {
      "text/plain": [
       "KMeans(algorithm='auto', copy_x=True, init='k-means++', max_iter=300,\n",
       "    n_clusters=5, n_init=10, n_jobs=None, precompute_distances='auto',\n",
       "    random_state=10, tol=0.0001, verbose=0)"
      ]
     },
     "execution_count": 5,
     "metadata": {},
     "output_type": "execute_result"
    }
   ],
   "source": [
    "#import Algorithm\n",
    "from sklearn.cluster import KMeans\n",
    "\n",
    "clustering = KMeans(n_clusters=5, random_state=10)\n",
    "clustering.fit(X)"
   ]
  },
  {
   "cell_type": "code",
   "execution_count": 79,
   "metadata": {},
   "outputs": [
    {
     "name": "stdout",
     "output_type": "stream",
     "text": [
      "[[-0.72181527  0.61335601  1.60986506  0.1988061   0.18797015 -1.67741665]\n",
      " [-0.84018581  1.08528605  0.58996106 -0.92006657  1.09140975 -0.2076425 ]\n",
      " [ 1.72890732 -1.17933814 -1.05722903  1.25253074 -1.35878488  0.36487354]\n",
      " [-0.16115735  0.04445214 -0.59466195 -1.27867961  0.20306918  1.39392631]\n",
      " [ 0.18024177 -0.74201677 -0.57961912  0.61076283 -0.42776324  0.3113649 ]]\n",
      "38.44388888188652\n"
     ]
    }
   ],
   "source": [
    "print(clustering.cluster_centers_)\n",
    "print(clustering.inertia_)"
   ]
  },
  {
   "cell_type": "code",
   "execution_count": 80,
   "metadata": {},
   "outputs": [
    {
     "data": {
      "text/plain": [
       "38.44388888188652"
      ]
     },
     "execution_count": 80,
     "metadata": {},
     "output_type": "execute_result"
    }
   ],
   "source": [
    "clustering.inertia_"
   ]
  },
  {
   "cell_type": "code",
   "execution_count": 6,
   "metadata": {},
   "outputs": [
    {
     "data": {
      "text/plain": [
       "array([4, 4, 4, 3, 4, 3, 0, 3, 3, 4, 4, 1, 1, 1, 1, 1, 1, 2, 2, 2, 4, 1,\n",
       "       1, 0, 1, 2, 2, 2, 0, 0, 0, 4])"
      ]
     },
     "execution_count": 6,
     "metadata": {},
     "output_type": "execute_result"
    }
   ],
   "source": [
    "clustering.labels_"
   ]
  },
  {
   "cell_type": "code",
   "execution_count": 7,
   "metadata": {
    "scrolled": false
   },
   "outputs": [
    {
     "data": {
      "text/html": [
       "<div>\n",
       "<style scoped>\n",
       "    .dataframe tbody tr th:only-of-type {\n",
       "        vertical-align: middle;\n",
       "    }\n",
       "\n",
       "    .dataframe tbody tr th {\n",
       "        vertical-align: top;\n",
       "    }\n",
       "\n",
       "    .dataframe thead th {\n",
       "        text-align: right;\n",
       "    }\n",
       "</style>\n",
       "<table border=\"1\" class=\"dataframe\">\n",
       "  <thead>\n",
       "    <tr style=\"text-align: right;\">\n",
       "      <th></th>\n",
       "      <th>car_model</th>\n",
       "      <th>mpg</th>\n",
       "      <th>disp</th>\n",
       "      <th>hp</th>\n",
       "      <th>drat</th>\n",
       "      <th>wt</th>\n",
       "      <th>qsec</th>\n",
       "      <th>ClusterNo</th>\n",
       "    </tr>\n",
       "  </thead>\n",
       "  <tbody>\n",
       "    <tr>\n",
       "      <th>0</th>\n",
       "      <td>Mazda RX4</td>\n",
       "      <td>21.0</td>\n",
       "      <td>160.0</td>\n",
       "      <td>110</td>\n",
       "      <td>3.90</td>\n",
       "      <td>2.620</td>\n",
       "      <td>16.46</td>\n",
       "      <td>4</td>\n",
       "    </tr>\n",
       "    <tr>\n",
       "      <th>1</th>\n",
       "      <td>Mazda RX4 Wag</td>\n",
       "      <td>21.0</td>\n",
       "      <td>160.0</td>\n",
       "      <td>110</td>\n",
       "      <td>3.90</td>\n",
       "      <td>2.875</td>\n",
       "      <td>17.02</td>\n",
       "      <td>4</td>\n",
       "    </tr>\n",
       "    <tr>\n",
       "      <th>2</th>\n",
       "      <td>Datsun 710</td>\n",
       "      <td>22.8</td>\n",
       "      <td>108.0</td>\n",
       "      <td>93</td>\n",
       "      <td>3.85</td>\n",
       "      <td>2.320</td>\n",
       "      <td>18.61</td>\n",
       "      <td>4</td>\n",
       "    </tr>\n",
       "    <tr>\n",
       "      <th>3</th>\n",
       "      <td>Hornet 4 Drive</td>\n",
       "      <td>21.4</td>\n",
       "      <td>258.0</td>\n",
       "      <td>110</td>\n",
       "      <td>3.08</td>\n",
       "      <td>3.215</td>\n",
       "      <td>19.44</td>\n",
       "      <td>3</td>\n",
       "    </tr>\n",
       "    <tr>\n",
       "      <th>4</th>\n",
       "      <td>Datsun 710</td>\n",
       "      <td>22.8</td>\n",
       "      <td>108.0</td>\n",
       "      <td>93</td>\n",
       "      <td>3.85</td>\n",
       "      <td>2.320</td>\n",
       "      <td>18.61</td>\n",
       "      <td>4</td>\n",
       "    </tr>\n",
       "  </tbody>\n",
       "</table>\n",
       "</div>"
      ],
      "text/plain": [
       "        car_model   mpg   disp   hp  drat     wt   qsec  ClusterNo\n",
       "0       Mazda RX4  21.0  160.0  110  3.90  2.620  16.46          4\n",
       "1   Mazda RX4 Wag  21.0  160.0  110  3.90  2.875  17.02          4\n",
       "2      Datsun 710  22.8  108.0   93  3.85  2.320  18.61          4\n",
       "3  Hornet 4 Drive  21.4  258.0  110  3.08  3.215  19.44          3\n",
       "4      Datsun 710  22.8  108.0   93  3.85  2.320  18.61          4"
      ]
     },
     "execution_count": 7,
     "metadata": {},
     "output_type": "execute_result"
    }
   ],
   "source": [
    "# \"Centrid# 0\" coordinates or \"cluster# 0\" = [-0.72181527  0.61335601  1.60986506  0.1988061   0.18797015 -1.67741665]\n",
    "# \"Centrid# 1\" coordinates or \"cluster# 1\" = [-0.84018581  1.08528605  0.58996106 -0.92006657  1.09140975 -0.2076425 ]\n",
    "# \"Centrid# 2\" coordinates or \"cluster# 2\" = [1.72890732 -1.17933814 -1.05722903  1.25253074 -1.35878488  0.36487354]\n",
    "# \"Centrid# 3\" coordinates or \"cluster# 3\" = [-0.16115735  0.04445214 -0.59466195 -1.27867961  0.20306918  1.39392631]\n",
    "# \"Centrid# 4\" coordinates or \"cluster# 4\" = [0.18024177 -0.74201677 -0.57961912  0.61076283 -0.42776324  0.3113649]\n",
    "\n",
    "#Merge outcome data frame with main data frame\n",
    "df = pd.merge(df,pd.DataFrame(clustering.labels_,columns=['ClusterNo']),how='inner',left_index=True,right_index=True)\n",
    "df.head()"
   ]
  },
  {
   "cell_type": "code",
   "execution_count": 9,
   "metadata": {},
   "outputs": [
    {
     "data": {
      "image/png": "[encoded data removed]",
      "text/plain": [
       "<Figure size 432x288 with 1 Axes>"
      ]
     },
     "metadata": {
      "needs_background": "light"
     },
     "output_type": "display_data"
    }
   ],
   "source": [
    "# clustering dataset\n",
    "# determine k using elbow method\n",
    "\n",
    "#Import Grapphics\n",
    "import matplotlib.pyplot as plt\n",
    "from matplotlib import rcParams\n",
    "from sklearn.cluster import KMeans\n",
    "from scipy.spatial.distance import cdist\n",
    "\n",
    "# k means determine k\n",
    "distortions = []\n",
    "K = range(1,20)\n",
    "for k in K:\n",
    "    kmeanModel = KMeans(n_clusters=k)\n",
    "    kmeanModel.fit(X)\n",
    "    #print(sum(np.min(cdist(X, kmeanModel.cluster_centers_, 'euclidean'), axis=1)) / X.shape[0])\n",
    "    #distortions.append(sum(np.min(cdist(X, kmeanModel.cluster_centers_, 'euclidean'), axis=1)) / X.shape[0])\n",
    "    distortions.append(kmeanModel.inertia_)\n",
    " \n",
    "# Plot the elbow\n",
    "plt.plot(K, distortions, marker = 'x')\n",
    "plt.xlabel('k')\n",
    "plt.ylabel('SSE')\n",
    "plt.title('The Elbow Method showing the optimal k')\n",
    "plt.show()\n"
   ]
  },
  {
   "cell_type": "code",
   "execution_count": null,
   "metadata": {},
   "outputs": [],
   "source": []
  },
  {
   "cell_type": "code",
   "execution_count": null,
   "metadata": {},
   "outputs": [],
   "source": []
  }
 ],
 "metadata": {
  "kernelspec": {
   "display_name": "Python 3",
   "language": "python",
   "name": "python3"
  },
  "language_info": {
   "codemirror_mode": {
    "name": "ipython",
    "version": 3
   },
   "file_extension": ".py",
   "mimetype": "text/x-python",
   "name": "python",
   "nbconvert_exporter": "python",
   "pygments_lexer": "ipython3",
   "version": "3.7.1"
  }
 },
 "nbformat": 4,
 "nbformat_minor": 2
}
